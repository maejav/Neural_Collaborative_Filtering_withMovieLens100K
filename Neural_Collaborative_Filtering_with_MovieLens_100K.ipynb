{
  "nbformat": 4,
  "nbformat_minor": 0,
  "metadata": {
    "colab": {
      "provenance": []
    },
    "kernelspec": {
      "name": "python3",
      "display_name": "Python 3"
    },
    "language_info": {
      "name": "python"
    }
  },
  "cells": [
    {
      "cell_type": "code",
      "execution_count": 10,
      "metadata": {
        "id": "Xre_mpsTAQe_"
      },
      "outputs": [],
      "source": [
        "!wget http://files.grouplens.org/datasets/movielens/ml-100k.zip\n",
        "!unzip ml-100k.zip"
      ]
    },
    {
      "cell_type": "code",
      "source": [
        "import pandas as pd\n",
        "\n",
        "# Load the ratings file\n",
        "ratings = pd.read_csv('ml-100k/u.data', sep='\\t', names=['user_id', 'item_id', 'rating', 'timestamp'])\n",
        "\n",
        "# Map user and item IDs to 0-based indices\n",
        "ratings['user_id'] = ratings['user_id'].astype('category').cat.codes\n",
        "ratings['item_id'] = ratings['item_id'].astype('category').cat.codes\n",
        "\n",
        "# Normalize ratings to 0–1\n",
        "ratings['rating'] = ratings['rating'] / 5.0\n",
        "\n",
        "# Drop timestamp\n",
        "ratings = ratings.drop(columns=['timestamp'])\n",
        "\n",
        "# Split into train and test\n",
        "from sklearn.model_selection import train_test_split\n",
        "train_df, test_df = train_test_split(ratings, test_size=0.2, random_state=42)\n"
      ],
      "metadata": {
        "id": "owec-8WrwjOZ"
      },
      "execution_count": 3,
      "outputs": []
    },
    {
      "cell_type": "code",
      "source": [
        "import torch\n",
        "from torch.utils.data import Dataset\n",
        "\n",
        "class RatingsDataset(Dataset):\n",
        "    def __init__(self, df):\n",
        "        self.users = torch.tensor(df['user_id'].values, dtype=torch.long)\n",
        "        self.items = torch.tensor(df['item_id'].values, dtype=torch.long)\n",
        "        self.ratings = torch.tensor(df['rating'].values, dtype=torch.float32)\n",
        "\n",
        "    def __len__(self):\n",
        "        return len(self.ratings)\n",
        "\n",
        "    def __getitem__(self, idx):\n",
        "        return self.users[idx], self.items[idx], self.ratings[idx]\n",
        "\n",
        "\n",
        "\n",
        "import torch.nn as nn\n",
        "## Step 4: Build Neural Collaborative Filtering Model\n",
        "class NeuralCF(nn.Module):\n",
        "    def __init__(self, num_users, num_items, embed_dim=64):\n",
        "        super().__init__()\n",
        "        self.user_embed = nn.Embedding(num_users, embed_dim)\n",
        "        self.item_embed = nn.Embedding(num_items, embed_dim)\n",
        "        self.user_bias = nn.Embedding(num_users, 1)\n",
        "        self.item_bias = nn.Embedding(num_items, 1)\n",
        "\n",
        "        self.fc_layers = nn.Sequential(\n",
        "            nn.Linear(embed_dim * 2, 256),\n",
        "            nn.BatchNorm1d(256),\n",
        "            nn.ReLU(),\n",
        "            nn.Dropout(0.3),\n",
        "            nn.Linear(256, 128),\n",
        "            nn.BatchNorm1d(128),\n",
        "            nn.ReLU(),\n",
        "            nn.Dropout(0.3),\n",
        "            nn.Linear(128, 64),\n",
        "            nn.BatchNorm1d(64),\n",
        "            nn.ReLU(),\n",
        "            nn.Dropout(0.3),\n",
        "            nn.Linear(64, 1)\n",
        "        )\n",
        "\n",
        "    def forward(self, user, item):\n",
        "        u = self.user_embed(user)\n",
        "        i = self.item_embed(item)\n",
        "        x = torch.cat([u, i], dim=1)\n",
        "        out = self.fc_layers(x)\n",
        "        bias = self.user_bias(user).squeeze() + self.item_bias(item).squeeze()\n",
        "        return out.squeeze() + bias\n",
        "\n",
        "from torch.utils.data import DataLoader\n",
        "import torch.optim as optim\n",
        "from tqdm import tqdm\n",
        "\n",
        "def train_model(model, train_loader, epochs=10):\n",
        "    loss_fn = nn.MSELoss()\n",
        "    optimizer = optim.Adam(model.parameters(), lr=1e-4, weight_decay=1e-5)\n",
        "\n",
        "    for epoch in range(1, epochs + 1):\n",
        "        model.train()\n",
        "        total_loss = 0\n",
        "        loop = tqdm(train_loader, desc=f\"Epoch {epoch}\")\n",
        "        for user, item, rating in loop:\n",
        "            optimizer.zero_grad()\n",
        "            pred = model(user, item)\n",
        "            loss = loss_fn(pred, rating)\n",
        "\n",
        "            # Embedding regularization\n",
        "            reg = model.user_embed(user).norm(2) + model.item_embed(item).norm(2)\n",
        "            loss += 1e-6 * reg  ## eg: .000001 * reg\n",
        "            #  Adds a small penalty to the loss, scaled by 1e-6.\n",
        "            #  This discourages the model from learning overly large embeddings, which helps prevent overfitting.\n",
        "            loss.backward()\n",
        "            optimizer.step()\n",
        "            total_loss += loss.item()\n",
        "            loop.set_postfix(loss=loss.item())\n",
        "        avg_loss = total_loss / len(train_loader.dataset)\n",
        "        print(f\"Epoch {epoch} completed. Total Loss: {avg_loss:.4f}\")\n"
      ],
      "metadata": {
        "id": "ZCgxcau5wqbc"
      },
      "execution_count": 7,
      "outputs": []
    },
    {
      "cell_type": "code",
      "source": [
        "num_users = ratings['user_id'].nunique()\n",
        "num_items = ratings['item_id'].nunique()\n",
        "\n",
        "train_dataset = RanytingsDataset(train_df)\n",
        "train_loader = DataLoader(train_dataset, batch_size=512, shuffle=True)\n",
        "\n",
        "model = NeuralCF(num_users, num_items)\n",
        "train_model(model, train_loader)\n",
        "\n"
      ],
      "metadata": {
        "colab": {
          "base_uri": "https://localhost:8080/"
        },
        "id": "hpJgCJpoxIZz",
        "outputId": "f1f36aec-aee6-433e-b390-60a113866af3"
      },
      "execution_count": 8,
      "outputs": [
        {
          "output_type": "stream",
          "name": "stderr",
          "text": [
            "Epoch 1: 100%|██████████| 157/157 [00:04<00:00, 32.18it/s, loss=2.64]\n"
          ]
        },
        {
          "output_type": "stream",
          "name": "stdout",
          "text": [
            "Epoch 1 completed. Total Loss: 0.0044\n"
          ]
        },
        {
          "output_type": "stream",
          "name": "stderr",
          "text": [
            "Epoch 2: 100%|██████████| 157/157 [00:04<00:00, 32.21it/s, loss=2.12]\n"
          ]
        },
        {
          "output_type": "stream",
          "name": "stdout",
          "text": [
            "Epoch 2 completed. Total Loss: 0.0038\n"
          ]
        },
        {
          "output_type": "stream",
          "name": "stderr",
          "text": [
            "Epoch 3: 100%|██████████| 157/157 [00:05<00:00, 28.67it/s, loss=1.98]\n"
          ]
        },
        {
          "output_type": "stream",
          "name": "stdout",
          "text": [
            "Epoch 3 completed. Total Loss: 0.0035\n"
          ]
        },
        {
          "output_type": "stream",
          "name": "stderr",
          "text": [
            "Epoch 4: 100%|██████████| 157/157 [00:04<00:00, 33.85it/s, loss=1.45]\n"
          ]
        },
        {
          "output_type": "stream",
          "name": "stdout",
          "text": [
            "Epoch 4 completed. Total Loss: 0.0032\n"
          ]
        },
        {
          "output_type": "stream",
          "name": "stderr",
          "text": [
            "Epoch 5: 100%|██████████| 157/157 [00:05<00:00, 28.44it/s, loss=1.54]\n"
          ]
        },
        {
          "output_type": "stream",
          "name": "stdout",
          "text": [
            "Epoch 5 completed. Total Loss: 0.0029\n"
          ]
        },
        {
          "output_type": "stream",
          "name": "stderr",
          "text": [
            "Epoch 6: 100%|██████████| 157/157 [00:04<00:00, 32.90it/s, loss=1.17]\n"
          ]
        },
        {
          "output_type": "stream",
          "name": "stdout",
          "text": [
            "Epoch 6 completed. Total Loss: 0.0027\n"
          ]
        },
        {
          "output_type": "stream",
          "name": "stderr",
          "text": [
            "Epoch 7: 100%|██████████| 157/157 [00:04<00:00, 32.33it/s, loss=1.08]\n"
          ]
        },
        {
          "output_type": "stream",
          "name": "stdout",
          "text": [
            "Epoch 7 completed. Total Loss: 0.0025\n"
          ]
        },
        {
          "output_type": "stream",
          "name": "stderr",
          "text": [
            "Epoch 8: 100%|██████████| 157/157 [00:05<00:00, 28.39it/s, loss=1.04]\n"
          ]
        },
        {
          "output_type": "stream",
          "name": "stdout",
          "text": [
            "Epoch 8 completed. Total Loss: 0.0023\n"
          ]
        },
        {
          "output_type": "stream",
          "name": "stderr",
          "text": [
            "Epoch 9: 100%|██████████| 157/157 [00:04<00:00, 32.70it/s, loss=1]\n"
          ]
        },
        {
          "output_type": "stream",
          "name": "stdout",
          "text": [
            "Epoch 9 completed. Total Loss: 0.0021\n"
          ]
        },
        {
          "output_type": "stream",
          "name": "stderr",
          "text": [
            "Epoch 10: 100%|██████████| 157/157 [00:05<00:00, 29.07it/s, loss=0.848]"
          ]
        },
        {
          "output_type": "stream",
          "name": "stdout",
          "text": [
            "Epoch 10 completed. Total Loss: 0.0019\n"
          ]
        },
        {
          "output_type": "stream",
          "name": "stderr",
          "text": [
            "\n"
          ]
        }
      ]
    }
  ]
}